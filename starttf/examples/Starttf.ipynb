{
  "nbformat": 4,
  "nbformat_minor": 0,
  "metadata": {
    "colab": {
      "name": "Starttf.ipynb",
      "version": "0.3.2",
      "views": {},
      "default_view": {},
      "provenance": [],
      "collapsed_sections": []
    },
    "kernelspec": {
      "name": "python3",
      "display_name": "Python 3"
    }
  },
  "cells": [
    {
      "metadata": {
        "id": "5U1bPetVYK4G",
        "colab_type": "text"
      },
      "cell_type": "markdown",
      "source": [
        "# Start Tensorflow with starttf\n",
        "\n",
        "First we need to install tensorflow and check if it works."
      ]
    },
    {
      "metadata": {
        "id": "YKRSAMwmWWzn",
        "colab_type": "code",
        "colab": {
          "autoexec": {
            "startup": false,
            "wait_interval": 0
          }
        }
      },
      "cell_type": "code",
      "source": [
        "!pip install tensorflow\n",
        "import tensorflow as tf"
      ],
      "execution_count": 0,
      "outputs": []
    },
    {
      "metadata": {
        "id": "D7gE9-ECjngu",
        "colab_type": "code",
        "colab": {
          "autoexec": {
            "startup": false,
            "wait_interval": 0
          },
          "base_uri": "https://localhost:8080/",
          "height": 34
        },
        "outputId": "61416133-dfc5-4316-8c49-e11a8e32036a",
        "executionInfo": {
          "status": "ok",
          "timestamp": 1525532422569,
          "user_tz": -120,
          "elapsed": 525,
          "user": {
            "displayName": "Michael PenguinMenace",
            "photoUrl": "//lh3.googleusercontent.com/-wv0FkQOEnjg/AAAAAAAAAAI/AAAAAAAAAHM/byTo6iipigo/s50-c-k-no/photo.jpg",
            "userId": "112772895502545919169"
          }
        }
      },
      "cell_type": "code",
      "source": [
        "print(tf.__version__)"
      ],
      "execution_count": 2,
      "outputs": [
        {
          "output_type": "stream",
          "text": [
            "1.7.0\n"
          ],
          "name": "stdout"
        }
      ]
    },
    {
      "metadata": {
        "id": "KLjN3csHXFf2",
        "colab_type": "text"
      },
      "cell_type": "markdown",
      "source": [
        "Next let's install starttf and opendatalake"
      ]
    },
    {
      "metadata": {
        "id": "Y8HotiWuYv1p",
        "colab_type": "code",
        "colab": {
          "autoexec": {
            "startup": false,
            "wait_interval": 0
          }
        }
      },
      "cell_type": "code",
      "source": [
        "!pip install https://github.com/penguinmenac3/starttf/archive/master.zip\n",
        "!pip install https://github.com/penguinmenac3/opendatalake/archive/master.zip"
      ],
      "execution_count": 0,
      "outputs": []
    },
    {
      "metadata": {
        "id": "as-_GHVsY-LQ",
        "colab_type": "text"
      },
      "cell_type": "markdown",
      "source": [
        "# Starting out\n",
        "\n",
        "## Loading a dataset\n",
        "\n",
        "Let's start by loading a dataset.\n",
        "The simplest dataset for beginners is mnist.\n",
        "The good thing about mnist is, that you do not need any complex downloading code.\n",
        "Simply load it via the opendatalake."
      ]
    },
    {
      "metadata": {
        "id": "LNlTt3s5b8g0",
        "colab_type": "code",
        "colab": {
          "autoexec": {
            "startup": false,
            "wait_interval": 0
          }
        }
      },
      "cell_type": "code",
      "source": [
        "from opendatalake.classification.mnist import mnist\n",
        "\n",
        "base_dir = \"data/mnist\"\n",
        "\n",
        "# Get a generator and its parameters\n",
        "train_gen, train_gen_params = mnist(base_dir=base_dir, phase=\"train\")\n",
        "validation_gen, validation_gen_params = mnist(base_dir=base_dir, phase=\"validation\")\n",
        "\n",
        "# Create a generator to see some images\n",
        "data = train_gen(train_gen_params)"
      ],
      "execution_count": 0,
      "outputs": []
    },
    {
      "metadata": {
        "id": "K-OR1AOQdDbF",
        "colab_type": "text"
      },
      "cell_type": "markdown",
      "source": [
        "Now you have downloaded the dataset and a generator which will output you labels and features.\n",
        "Let's inspect some features and labels!"
      ]
    },
    {
      "metadata": {
        "id": "yjgnNJZWdML9",
        "colab_type": "code",
        "colab": {
          "autoexec": {
            "startup": false,
            "wait_interval": 0
          },
          "base_uri": "https://localhost:8080/",
          "height": 51
        },
        "outputId": "bb0affbe-9a27-4b6e-de04-54a7abb51f4a",
        "executionInfo": {
          "status": "ok",
          "timestamp": 1525532442922,
          "user_tz": -120,
          "elapsed": 749,
          "user": {
            "displayName": "Michael PenguinMenace",
            "photoUrl": "//lh3.googleusercontent.com/-wv0FkQOEnjg/AAAAAAAAAAI/AAAAAAAAAHM/byTo6iipigo/s50-c-k-no/photo.jpg",
            "userId": "112772895502545919169"
          }
        }
      },
      "cell_type": "code",
      "source": [
        "features, labels = next(data)\n",
        "print(features.keys())\n",
        "print(labels.keys())"
      ],
      "execution_count": 5,
      "outputs": [
        {
          "output_type": "stream",
          "text": [
            "dict_keys(['image'])\n",
            "dict_keys(['probs'])\n"
          ],
          "name": "stdout"
        }
      ]
    },
    {
      "metadata": {
        "id": "PbyB-19rdazt",
        "colab_type": "text"
      },
      "cell_type": "markdown",
      "source": [
        "The image is a numpy array. Let's plot it using matplotlib. The label is one hot encoded probabilities. Using np.argmax you can receive the label of the image.\n",
        "\n",
        "In the case of mnist the image is a 1d-array with 786 values. However, it actually represents a (28,28) image. So first you have to reshape it using numpy.\n",
        "\n",
        "The Label is one hot encoded, this means you can use `np.argmax` to retrieve the index at which the one is (aka the label in human readable form).\n",
        "\n",
        "Finally plot the image using matplotlibs imshow."
      ]
    },
    {
      "metadata": {
        "id": "eVREumamdY8d",
        "colab_type": "code",
        "colab": {
          "autoexec": {
            "startup": false,
            "wait_interval": 0
          },
          "base_uri": "https://localhost:8080/",
          "height": 362
        },
        "outputId": "de3fd70c-ba94-4904-9104-f3a7f533cff2",
        "executionInfo": {
          "status": "ok",
          "timestamp": 1525532443744,
          "user_tz": -120,
          "elapsed": 647,
          "user": {
            "displayName": "Michael PenguinMenace",
            "photoUrl": "//lh3.googleusercontent.com/-wv0FkQOEnjg/AAAAAAAAAAI/AAAAAAAAAHM/byTo6iipigo/s50-c-k-no/photo.jpg",
            "userId": "112772895502545919169"
          }
        }
      },
      "cell_type": "code",
      "source": [
        "import numpy as np\n",
        "import matplotlib.pyplot as plt\n",
        "\n",
        "# Reshape image from (786,) to (28,28)\n",
        "img = np.reshape(features['image'], (28,28))\n",
        "number = np.argmax(labels['probs'])\n",
        "\n",
        "# Plot img with number as title\n",
        "plt.title(\"Number: %d\" % number)\n",
        "plt.imshow(img)\n",
        "plt.show()"
      ],
      "execution_count": 6,
      "outputs": [
        {
          "output_type": "display_data",
          "data": {
            "image/png": "[encoded data removed]",
            "text/plain": [
              "<matplotlib.figure.Figure at 0x7fd9a881d550>"
            ]
          },
          "metadata": {
            "tags": []
          }
        }
      ]
    },
    {
      "metadata": {
        "id": "_FkCrnqEgz3x",
        "colab_type": "text"
      },
      "cell_type": "markdown",
      "source": [
        "## Hyperparameters object\n",
        "\n",
        "We need a hyperparams object to store all hyperparamters we setup for our training. Let's create one where we can add all variables."
      ]
    },
    {
      "metadata": {
        "id": "aTkJkkc3g90g",
        "colab_type": "code",
        "colab": {
          "autoexec": {
            "startup": false,
            "wait_interval": 0
          }
        }
      },
      "cell_type": "code",
      "source": [
        "from starttf.utils.dict2obj import Dict2Obj\n",
        "\n",
        "hyper_params = Dict2Obj({})"
      ],
      "execution_count": 0,
      "outputs": []
    },
    {
      "metadata": {
        "id": "ImAClLTFfFc1",
        "colab_type": "text"
      },
      "cell_type": "markdown",
      "source": [
        "## Preparing a training\n",
        "\n",
        "Before writing a model, loss and everything fancy, you need to prepare your data for training.\n",
        "\n",
        "In the case of mnist no cleaning or augmentation is required, so we can simply write the data into a tfrecord file.\n",
        "\n",
        "However, to illustrate how data augmentation could work, we will set the data augmentation steps to 1 manually.\n",
        "This involves adding a problem parameter to our hyper parameters."
      ]
    },
    {
      "metadata": {
        "id": "y5CfwwFgf_he",
        "colab_type": "code",
        "colab": {
          "autoexec": {
            "startup": false,
            "wait_interval": 0
          }
        }
      },
      "cell_type": "code",
      "source": [
        "from starttf.tfrecords.autorecords import write_data\n",
        "\n",
        "# Let's define our learning problem\n",
        "hyper_params.problem = Dict2Obj({\"augmentation\": {\"steps\": 1}})\n",
        "\n",
        "write_data(hyper_params, \"records/train\", train_gen, train_gen_params, 4)\n",
        "write_data(hyper_params, \"records/validation\", validation_gen, validation_gen_params, 2)"
      ],
      "execution_count": 0,
      "outputs": []
    },
    {
      "metadata": {
        "id": "zbYrSStLwzpU",
        "colab_type": "text"
      },
      "cell_type": "markdown",
      "source": [
        "## Training a model (the easy way)\n",
        "\n",
        "Now that the data is written into a format that we can efficiently read for training, let's have a look at an easy way to train a model.\n",
        "\n",
        "First let's create a dict where to gather all hyperparameters for training. Usually you would put that in an extra .json file which can be loaded easily."
      ]
    },
    {
      "metadata": {
        "id": "8cw2zI7uyXet",
        "colab_type": "code",
        "colab": {
          "autoexec": {
            "startup": false,
            "wait_interval": 0
          }
        }
      },
      "cell_type": "code",
      "source": [
        "hyper_params_dict = {}"
      ],
      "execution_count": 0,
      "outputs": []
    },
    {
      "metadata": {
        "id": "JOmUzd22ybaZ",
        "colab_type": "text"
      },
      "cell_type": "markdown",
      "source": [
        "For simplicity we will use a predefined model (we will later see how to write a create model function by ourselves).\n",
        "\n",
        "This model has a hyperparameter for `dropout_rate`"
      ]
    },
    {
      "metadata": {
        "id": "lXeNw6YAxNDw",
        "colab_type": "code",
        "colab": {
          "autoexec": {
            "startup": false,
            "wait_interval": 0
          }
        }
      },
      "cell_type": "code",
      "source": [
        "from starttf.models.mnist import create_model as mnist_model\n",
        "\n",
        "hyper_params_dict[\"arch\"] = {\"dropout_rate\": 0.5}"
      ],
      "execution_count": 0,
      "outputs": []
    },
    {
      "metadata": {
        "id": "6wbIGqcsxXLd",
        "colab_type": "text"
      },
      "cell_type": "markdown",
      "source": [
        "Next we need to define a loss.\n",
        "\n",
        "The loss glues together our labels and the model.\n",
        "\n",
        "In the case of mnist it is a simple cross entropy loss."
      ]
    },
    {
      "metadata": {
        "id": "h1hHVuwoxVkT",
        "colab_type": "code",
        "colab": {
          "autoexec": {
            "startup": false,
            "wait_interval": 0
          }
        }
      },
      "cell_type": "code",
      "source": [
        "from starttf.utils.misc import mode_to_str\n",
        "\n",
        "def create_loss(model, labels, mode, hyper_params):\n",
        "    mode_name = mode_to_str(mode)\n",
        "    metrics = {}\n",
        "\n",
        "    # Add loss\n",
        "    labels = tf.reshape(labels[\"probs\"], [-1, 10])\n",
        "    loss_op = tf.reduce_mean(tf.nn.softmax_cross_entropy_with_logits(logits=model[\"logits\"], labels=labels))\n",
        "    # For tensorboard, we don't use that now.\n",
        "    #tf.summary.scalar(mode_name + '/loss', loss_op)\n",
        "    metrics[mode_name + '/loss'] = loss_op\n",
        "\n",
        "    return loss_op, metrics"
      ],
      "execution_count": 0,
      "outputs": []
    },
    {
      "metadata": {
        "id": "UbGeBGXxxVYd",
        "colab_type": "text"
      },
      "cell_type": "markdown",
      "source": [
        "Now we need to define all our hyperparameters and launch the training."
      ]
    },
    {
      "metadata": {
        "id": "dqggqmHNxv3D",
        "colab_type": "code",
        "colab": {
          "autoexec": {
            "startup": false,
            "wait_interval": 0
          },
          "base_uri": "https://localhost:8080/",
          "height": 544
        },
        "outputId": "51ce8d74-a215-4414-fa1a-4710a4e8999a",
        "executionInfo": {
          "status": "ok",
          "timestamp": 1525532672142,
          "user_tz": -120,
          "elapsed": 192886,
          "user": {
            "displayName": "Michael PenguinMenace",
            "photoUrl": "//lh3.googleusercontent.com/-wv0FkQOEnjg/AAAAAAAAAAI/AAAAAAAAAHM/byTo6iipigo/s50-c-k-no/photo.jpg",
            "userId": "112772895502545919169"
          }
        }
      },
      "cell_type": "code",
      "source": [
        "hyper_params_dict[\"train\"] = {}\n",
        "hyper_params_dict[\"train\"][\"checkpoint_path\"] = \"checkpoints\"\n",
        "hyper_params_dict[\"train\"][\"iters\"] = 2000\n",
        "hyper_params_dict[\"train\"][\"summary_iters\"] = 250\n",
        "hyper_params_dict[\"train\"][\"tf_records_path\"] = \"records\"\n",
        "hyper_params_dict[\"train\"][\"batch_size\"] = 64\n",
        "hyper_params_dict[\"train\"][\"validation_batch_size\"] = 64\n",
        "hyper_params_dict[\"train\"][\"learning_rate\"] = {\"type\": \"const\", \"start_value\": 0.001}\n",
        "hyper_params_dict[\"train\"][\"optimizer\"] = {\"type\": \"adam\"}\n",
        "\n",
        "\n",
        "hyper_params = Dict2Obj(hyper_params_dict)\n",
        "\n",
        "from starttf.estimators.scientific_estimator import easy_train_and_evaluate\n",
        "\n",
        "easy_train_and_evaluate(hyper_params, mnist_model, create_loss)"
      ],
      "execution_count": 12,
      "outputs": [
        {
          "output_type": "stream",
          "text": [
            "Using TensorFlow backend.\n"
          ],
          "name": "stderr"
        },
        {
          "output_type": "stream",
          "text": [
            "Loading data\n",
            "Create training graph\n",
            "WARNING:tensorflow:From <ipython-input-11-8093b2b7578f>:9: softmax_cross_entropy_with_logits (from tensorflow.python.ops.nn_ops) is deprecated and will be removed in a future version.\n",
            "Instructions for updating:\n",
            "\n",
            "Future major versions of TensorFlow will allow gradients to flow\n",
            "into the labels input on backprop by default.\n",
            "\n",
            "See tf.nn.softmax_cross_entropy_with_logits_v2.\n",
            "\n",
            "Create validation graph\n",
            "Start training\n",
            "Training Model: To reduce overhead no outputs are done. Use tensorboard to see your progress.\n",
            "python -m tensorboard.main --logdir=checkpoints\n",
            "Timing: 162.592 ms per iteration\n",
            "Iter: 250, Train loss: 0.0691, Test loss: 0.1521\n",
            "Timing: 95.804 ms per iteration\n",
            "Iter: 500, Train loss: 0.0873, Test loss: 0.0662\n",
            "Timing: 95.678 ms per iteration\n",
            "Iter: 750, Train loss: 0.0938, Test loss: 0.0943\n",
            "Timing: 95.158 ms per iteration\n",
            "Iter: 1000, Train loss: 0.0268, Test loss: 0.1433\n",
            "Timing: 96.877 ms per iteration\n",
            "Iter: 1250, Train loss: 0.0831, Test loss: 0.0396\n",
            "Timing: 96.615 ms per iteration\n",
            "Iter: 1500, Train loss: 0.0307, Test loss: 0.1409\n",
            "Timing: 95.890 ms per iteration\n",
            "Iter: 1750, Train loss: 0.0171, Test loss: 0.1426\n",
            "Timing: 95.224 ms per iteration\n"
          ],
          "name": "stdout"
        },
        {
          "output_type": "display_data",
          "data": {
            "text/plain": [
              "<matplotlib.figure.Figure at 0x7fd9ab37a6a0>"
            ]
          },
          "metadata": {
            "tags": []
          }
        }
      ]
    },
    {
      "metadata": {
        "id": "l5vZRDeY5rb8",
        "colab_type": "text"
      },
      "cell_type": "markdown",
      "source": [
        "If you run this code on your native machine, you can visit the checkpoints path and find images there which contain plots of your metrics. In this case the loss."
      ]
    },
    {
      "metadata": {
        "id": "pjVt8y9mr87M",
        "colab_type": "text"
      },
      "cell_type": "markdown",
      "source": [
        "## Training a model (a more involved way)\n",
        "\n",
        "After having trained a model the easy way, let's do it the more involved way. In some cases the easy_train_and_evaluate might not fit your needs.\n",
        "\n",
        "For training basically 4 steps are required:\n",
        "\n",
        "1. Loading the data into a tensor\n",
        "2. Defining the model\n",
        "3. Defining the loss\n",
        "4. Train and Evaluate the model given the loss\n",
        "\n",
        "Then let's start with loading the data into a tensor."
      ]
    },
    {
      "metadata": {
        "id": "Mn2UIIVwizC6",
        "colab_type": "code",
        "colab": {
          "autoexec": {
            "startup": false,
            "wait_interval": 0
          }
        }
      },
      "cell_type": "code",
      "source": [
        "from starttf.tfrecords.autorecords import read_data\n",
        "\n",
        "train_features, train_labels = read_data(\"records/train\", 64)\n",
        "validation_features, validation_labels = read_data(\"records/validation\", 64)"
      ],
      "execution_count": 0,
      "outputs": []
    },
    {
      "metadata": {
        "id": "Y-D3lhx_tfah",
        "colab_type": "text"
      },
      "cell_type": "markdown",
      "source": [
        "Next we define a model using those tensors.\n",
        "Creating a model works by passing in an input_tensor, mode, and hyper params.\n",
        "\n",
        "The mode tells the network if it has to run in evaluation, prediction or training mode.\n",
        "When in eval mode, we want to resue the weights from the training network.\n",
        "Otherwise the network would train and evaluate using different weights.\n",
        "\n",
        "The Network we want to write is a little bit ispired by vgg just smaller. We have 2 conv layers, a pooling layer, 2 conv layers a pooling layer, dropout in training and finally some fully connected layer before a softmax layer."
      ]
    },
    {
      "metadata": {
        "id": "accAmakd0_sf",
        "colab_type": "code",
        "colab": {
          "autoexec": {
            "startup": false,
            "wait_interval": 0
          }
        }
      },
      "cell_type": "code",
      "source": [
        "def create_model(input_tensor, mode, hyper_params):\n",
        "    model = {}\n",
        "    \n",
        "    with tf.variable_scope('SimpleMnistNetwork') as scope:\n",
        "        if mode == tf.estimator.ModeKeys.EVAL:\n",
        "            scope.reuse_variables()\n",
        "\n",
        "        # Prepare the inputs\n",
        "        x = tf.reshape(tensor=input_tensor[\"image\"], shape=(-1, 28, 28, 1), name=\"input\")\n",
        "\n",
        "        # First Conv Block\n",
        "        conv1 = tf.layers.conv2d(inputs=x, filters=16, kernel_size=(3, 3), strides=(1, 1), name=\"conv1\",\n",
        "                                 activation=tf.nn.relu)\n",
        "        conv2 = tf.layers.conv2d(inputs=conv1, filters=32, kernel_size=(3, 3), strides=(1, 1), name=\"conv2\",\n",
        "                                 activation=tf.nn.relu)\n",
        "        pool2 = tf.layers.max_pooling2d(inputs=conv2, pool_size=(2, 2), strides=(2, 2), name=\"pool2\")\n",
        "\n",
        "        # Second Conv Block\n",
        "        conv3 = tf.layers.conv2d(inputs=pool2, filters=32, kernel_size=(3, 3), strides=(1, 1), name=\"conv3\",\n",
        "                                 activation=tf.nn.relu)\n",
        "        conv4 = tf.layers.conv2d(inputs=conv3, filters=32, kernel_size=(3, 3), strides=(1, 1), name=\"conv4\",\n",
        "                                 activation=tf.nn.relu)\n",
        "        pool4 = tf.layers.max_pooling2d(inputs=conv4, pool_size=(2, 2), strides=(2, 2), name=\"pool4\")\n",
        "        if mode == tf.estimator.ModeKeys.TRAIN:\n",
        "            pool4 = tf.layers.dropout(inputs=pool4, rate=hyper_params.arch.dropout_rate, name=\"drop4\")\n",
        "\n",
        "        # Fully Connected Block\n",
        "        probs = tf.layers.flatten(inputs=pool4)\n",
        "        logits = tf.layers.dense(inputs=probs, units=10, activation=None, name=\"logits\")\n",
        "        probs = tf.nn.softmax(logits=logits, name=\"probs\")\n",
        "\n",
        "        # Collect outputs for api of network.\n",
        "        model[\"pool2\"] = pool2\n",
        "        model[\"pool4\"] = pool4\n",
        "        model[\"logits\"] = logits\n",
        "        model[\"probs\"] = probs\n",
        "    return model"
      ],
      "execution_count": 0,
      "outputs": []
    },
    {
      "metadata": {
        "id": "pmBR5Vxs1AH9",
        "colab_type": "text"
      },
      "cell_type": "markdown",
      "source": [
        "Now we have to create our model twice, once for training and once for evaluation."
      ]
    },
    {
      "metadata": {
        "id": "Hvy79ETqtpTm",
        "colab_type": "code",
        "colab": {
          "autoexec": {
            "startup": false,
            "wait_interval": 0
          }
        }
      },
      "cell_type": "code",
      "source": [
        "train_model = create_model(train_features, tf.estimator.ModeKeys.TRAIN, hyper_params)\n",
        "validation_model = create_model(validation_features, tf.estimator.ModeKeys.EVAL, hyper_params)"
      ],
      "execution_count": 0,
      "outputs": []
    },
    {
      "metadata": {
        "id": "9gPKr0BnuPzK",
        "colab_type": "text"
      },
      "cell_type": "markdown",
      "source": [
        "As a loss we can use the same as for the easy training way.\n",
        "We need to create it once for training and once for validation."
      ]
    },
    {
      "metadata": {
        "id": "soQXdz6suwlH",
        "colab_type": "code",
        "colab": {
          "autoexec": {
            "startup": false,
            "wait_interval": 0
          }
        }
      },
      "cell_type": "code",
      "source": [
        "train_loss, train_metrics = create_loss(train_model, train_labels, tf.estimator.ModeKeys.TRAIN, hyper_params)\n",
        "validation_loss, validation_metrics = create_loss(validation_model, validation_labels, tf.estimator.ModeKeys.EVAL, hyper_params)"
      ],
      "execution_count": 0,
      "outputs": []
    },
    {
      "metadata": {
        "id": "maYcpu93vJ2p",
        "colab_type": "text"
      },
      "cell_type": "markdown",
      "source": [
        "Next we need to define a training operation to be able to train our model. In this case we will use a default adam optimizer, it should work ok."
      ]
    },
    {
      "metadata": {
        "id": "QqBXoXHdvQ7F",
        "colab_type": "code",
        "colab": {
          "autoexec": {
            "startup": false,
            "wait_interval": 0
          }
        }
      },
      "cell_type": "code",
      "source": [
        "train_op = tf.train.AdamOptimizer().minimize(train_loss)"
      ],
      "execution_count": 0,
      "outputs": []
    },
    {
      "metadata": {
        "id": "--puhsxOvjHG",
        "colab_type": "text"
      },
      "cell_type": "markdown",
      "source": [
        "The only thing left is actually training our model.\n",
        "Since we can reuse the hyperparameters from the simple training method. This ensures comparability."
      ]
    },
    {
      "metadata": {
        "id": "w8k0XiRAvnXM",
        "colab_type": "code",
        "colab": {
          "autoexec": {
            "startup": false,
            "wait_interval": 0
          },
          "base_uri": "https://localhost:8080/",
          "height": 323
        },
        "outputId": "e5c3cb0c-b15c-47d4-e952-6944d4b3ae05",
        "executionInfo": {
          "status": "ok",
          "timestamp": 1525533059928,
          "user_tz": -120,
          "elapsed": 191897,
          "user": {
            "displayName": "Michael PenguinMenace",
            "photoUrl": "//lh3.googleusercontent.com/-wv0FkQOEnjg/AAAAAAAAAAI/AAAAAAAAAHM/byTo6iipigo/s50-c-k-no/photo.jpg",
            "userId": "112772895502545919169"
          }
        }
      },
      "cell_type": "code",
      "source": [
        "from starttf.utils.plot_losses import DefaultLossCallback\n",
        "from starttf.utils.session_config import get_default_config\n",
        "from starttf.estimators.scientific_estimator import train_and_evaluate\n",
        "\n",
        "with tf.Session(config=get_default_config()) as session:\n",
        "        checkpoint_path = train_and_evaluate(hyper_params, session, train_op,\n",
        "                                             metrics=[train_metrics, validation_metrics],\n",
        "                                             callback=DefaultLossCallback().callback,\n",
        "                                             enable_timing=True)"
      ],
      "execution_count": 18,
      "outputs": [
        {
          "output_type": "stream",
          "text": [
            "Training Model: To reduce overhead no outputs are done. Use tensorboard to see your progress.\n",
            "python -m tensorboard.main --logdir=checkpoints\n",
            "Timing: 177.183 ms per iteration\n",
            "Iter: 250, Train loss: 0.0493, Test loss: 0.0889\n",
            "Timing: 94.161 ms per iteration\n",
            "Iter: 500, Train loss: 0.0779, Test loss: 0.1184\n",
            "Timing: 94.884 ms per iteration\n",
            "Iter: 750, Train loss: 0.0751, Test loss: 0.1157\n",
            "Timing: 96.057 ms per iteration\n",
            "Iter: 1000, Train loss: 0.0905, Test loss: 0.0910\n",
            "Timing: 96.221 ms per iteration\n",
            "Iter: 1250, Train loss: 0.0078, Test loss: 0.0361\n",
            "Timing: 96.063 ms per iteration\n",
            "Iter: 1500, Train loss: 0.0406, Test loss: 0.1907\n",
            "Timing: 95.023 ms per iteration\n",
            "Iter: 1750, Train loss: 0.1314, Test loss: 0.0044\n",
            "Timing: 95.445 ms per iteration\n"
          ],
          "name": "stdout"
        },
        {
          "output_type": "display_data",
          "data": {
            "text/plain": [
              "<matplotlib.figure.Figure at 0x7fd99dbc4940>"
            ]
          },
          "metadata": {
            "tags": []
          }
        }
      ]
    },
    {
      "metadata": {
        "id": "_x5yya7f2HXb",
        "colab_type": "text"
      },
      "cell_type": "markdown",
      "source": [
        "Congratulations!\n",
        "\n",
        "When you now want to work on a different dataset you have to do basically the same."
      ]
    },
    {
      "metadata": {
        "id": "WEvh33oA2Mxh",
        "colab_type": "text"
      },
      "cell_type": "markdown",
      "source": [
        "## How to do that on something else than mnist?\n",
        "\n",
        "1. Write a data generator, like the mnist generator we used. (See [mnist here](https://github.com/penguinmenac3/opendatalake/blob/master/opendatalake/classification/mnist.py) or a named folder based loader [here](https://github.com/penguinmenac3/opendatalake/blob/master/opendatalake/classification/named_folders.py))\n",
        "```python\n",
        "def threadable_gen(params, stride=1, offset=0, infinite=False):\n",
        "        # This function cannot be a lambda or pooling does not work.\n",
        "        # All interactions with the outside world must be via the params object. (agian for pooling to work)\n",
        "        # yield dicts for features and labels\n",
        "```\n",
        "2. Prepare your data as we have done here using the write_data method. You can optionally pass in a data augmentation, label_preprocessing and feature_preprocessing method if you want to.\n",
        "```python\n",
        "def write_data(hyper_params,\n",
        "               prefix,\n",
        "               threadable_generator,\n",
        "               params,\n",
        "               num_threads,\n",
        "               preprocess_feature=None,\n",
        "               preprocess_label=None,\n",
        "               augment_data=None):\n",
        "```\n",
        "3. Write a model or use a predefined one. There are implementations of common models in starttf.models. You can find vgg16 there for example. If you have an awesome model, consider a pull request at [starttf project on github](https://github.com/penguinmenac3/starttf/)\n",
        "```python\n",
        "def create_model(input_tensor, mode, hyper_params):\n",
        "        # Do not forget reuse variables and variable scope!\n",
        "```\n",
        "4. Write a loss like we did here to glue together your model and the labels.\n",
        "```python\n",
        "def create_loss(model, labels, mode, hyper_params):\n",
        "        # Return a loss op and metrics dict (like shown in this notebook)\n",
        "        # If you need some advanced losses, consider using starttf.losses. (alpha balancing, focus loss, mask loss, ...)\n",
        "```\n",
        "5. Use the easy_train_and_evaluate method or write your own training logic. Here we used a train_and_evaluate method, if you need some specific training that it cannot do you can use the source code [here](https://github.com/penguinmenac3/starttf/blob/master/starttf/estimators/scientific_estimator.py) and modify it to your requirements. If it is of general interest and has good code quality, consider pull requesting. ;)\n",
        "```python\n",
        "def easy_train_and_evaluate(hyper_params, create_model, create_loss, init_model=None):\n",
        "        # Init Model is a callback that you can use to initialize your model with pretrained weights just before training starts.\n",
        "```\n",
        "\n",
        "Stick to those patterns and writing a model for example 3d-detection of vehicles in realtime is done with just as many lines of code as writing an mnist network.\n",
        "Trust me on that one. I tried it myself. ;)"
      ]
    }
  ]
}