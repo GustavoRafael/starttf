{
 "cells": [
  {
   "cell_type": "markdown",
   "metadata": {
    "colab_type": "text",
    "id": "5U1bPetVYK4G"
   },
   "source": [
    "# Start Tensorflow with starttf\n",
    "\n",
    "First we need to install tensorflow and check if it works."
   ]
  },
  {
   "cell_type": "code",
   "execution_count": null,
   "metadata": {
    "colab": {
     "autoexec": {
      "startup": false,
      "wait_interval": 0.0
     }
    },
    "colab_type": "code",
    "id": "YKRSAMwmWWzn"
   },
   "outputs": [],
   "source": [
    "!pip install tensorflow\n",
    "import tensorflow as tf"
   ]
  },
  {
   "cell_type": "code",
   "execution_count": 2,
   "metadata": {
    "colab": {
     "autoexec": {
      "startup": false,
      "wait_interval": 0.0
     },
     "base_uri": "https://localhost:8080/",
     "height": 34.0
    },
    "colab_type": "code",
    "executionInfo": {
     "elapsed": 543.0,
     "status": "ok",
     "timestamp": 1.525715006372E12,
     "user": {
      "displayName": "Michael PenguinMenace",
      "photoUrl": "//lh3.googleusercontent.com/-wv0FkQOEnjg/AAAAAAAAAAI/AAAAAAAAAHM/byTo6iipigo/s50-c-k-no/photo.jpg",
      "userId": "112772895502545919169"
     },
     "user_tz": -120.0
    },
    "id": "D7gE9-ECjngu",
    "outputId": "3f6486e6-e1bc-4447-e91e-c0af2a7061f3"
   },
   "outputs": [
    {
     "name": "stdout",
     "output_type": "stream",
     "text": [
      "1.7.0\n"
     ]
    }
   ],
   "source": [
    "print(tf.__version__)"
   ]
  },
  {
   "cell_type": "markdown",
   "metadata": {
    "colab_type": "text",
    "id": "KLjN3csHXFf2"
   },
   "source": [
    "Next let's install starttf and opendatalake"
   ]
  },
  {
   "cell_type": "code",
   "execution_count": null,
   "metadata": {
    "colab": {
     "autoexec": {
      "startup": false,
      "wait_interval": 0.0
     }
    },
    "colab_type": "code",
    "id": "Y8HotiWuYv1p"
   },
   "outputs": [],
   "source": [
    "!pip uninstall -y starttf\n",
    "!pip uninstall -y opendatalake\n",
    "\n",
    "!pip install https://github.com/penguinmenac3/starttf/archive/master.zip\n",
    "!pip install https://github.com/penguinmenac3/opendatalake/archive/master.zip"
   ]
  },
  {
   "cell_type": "markdown",
   "metadata": {
    "colab_type": "text",
    "id": "as-_GHVsY-LQ"
   },
   "source": [
    "# Starting out\n",
    "\n",
    "## Loading a dataset\n",
    "\n",
    "Let's start by loading a dataset.\n",
    "The simplest dataset for beginners is mnist.\n",
    "The good thing about mnist is, that you do not need any complex downloading code.\n",
    "Simply load it via the opendatalake."
   ]
  },
  {
   "cell_type": "code",
   "execution_count": null,
   "metadata": {
    "colab": {
     "autoexec": {
      "startup": false,
      "wait_interval": 0.0
     }
    },
    "colab_type": "code",
    "id": "LNlTt3s5b8g0"
   },
   "outputs": [],
   "source": [
    "from opendatalake.classification.mnist import mnist\n",
    "\n",
    "base_dir = \"data/mnist\"\n",
    "\n",
    "# Get a generator and its parameters\n",
    "train_gen, train_gen_params = mnist(base_dir=base_dir, phase=\"train\")\n",
    "validation_gen, validation_gen_params = mnist(base_dir=base_dir, phase=\"validation\")\n",
    "\n",
    "# Create a generator to see some images\n",
    "data = train_gen(train_gen_params)"
   ]
  },
  {
   "cell_type": "markdown",
   "metadata": {
    "colab_type": "text",
    "id": "K-OR1AOQdDbF"
   },
   "source": [
    "Now you have downloaded the dataset and a generator which will output you labels and features.\n",
    "Let's inspect some features and labels!"
   ]
  },
  {
   "cell_type": "code",
   "execution_count": 5,
   "metadata": {
    "colab": {
     "autoexec": {
      "startup": false,
      "wait_interval": 0.0
     },
     "base_uri": "https://localhost:8080/",
     "height": 51.0
    },
    "colab_type": "code",
    "executionInfo": {
     "elapsed": 561.0,
     "status": "ok",
     "timestamp": 1.525715038423E12,
     "user": {
      "displayName": "Michael PenguinMenace",
      "photoUrl": "//lh3.googleusercontent.com/-wv0FkQOEnjg/AAAAAAAAAAI/AAAAAAAAAHM/byTo6iipigo/s50-c-k-no/photo.jpg",
      "userId": "112772895502545919169"
     },
     "user_tz": -120.0
    },
    "id": "yjgnNJZWdML9",
    "outputId": "cb0e586c-f442-4edd-b1c0-820ccd33e4d9"
   },
   "outputs": [
    {
     "name": "stdout",
     "output_type": "stream",
     "text": [
      "dict_keys(['image'])\n",
      "dict_keys(['probs'])\n"
     ]
    }
   ],
   "source": [
    "features, labels = next(data)\n",
    "print(features.keys())\n",
    "print(labels.keys())"
   ]
  },
  {
   "cell_type": "markdown",
   "metadata": {
    "colab_type": "text",
    "id": "PbyB-19rdazt"
   },
   "source": [
    "The image is a numpy array. Let's plot it using matplotlib. The label is one hot encoded probabilities. Using np.argmax you can receive the label of the image.\n",
    "\n",
    "In the case of mnist the image is a 1d-array with 786 values. However, it actually represents a (28,28) image. So first you have to reshape it using numpy.\n",
    "\n",
    "The Label is one hot encoded, this means you can use `np.argmax` to retrieve the index at which the one is (aka the label in human readable form).\n",
    "\n",
    "Finally plot the image using matplotlibs imshow."
   ]
  },
  {
   "cell_type": "code",
   "execution_count": 6,
   "metadata": {
    "colab": {
     "autoexec": {
      "startup": false,
      "wait_interval": 0.0
     },
     "base_uri": "https://localhost:8080/",
     "height": 362.0
    },
    "colab_type": "code",
    "executionInfo": {
     "elapsed": 544.0,
     "status": "ok",
     "timestamp": 1.525715039894E12,
     "user": {
      "displayName": "Michael PenguinMenace",
      "photoUrl": "//lh3.googleusercontent.com/-wv0FkQOEnjg/AAAAAAAAAAI/AAAAAAAAAHM/byTo6iipigo/s50-c-k-no/photo.jpg",
      "userId": "112772895502545919169"
     },
     "user_tz": -120.0
    },
    "id": "eVREumamdY8d",
    "outputId": "7b1b7960-2da9-468d-a160-59759c034107"
   },
   "outputs": [
    {
     "data": {
      "image/png": "[encoded data removed]",
      "text/plain": [
       "<matplotlib.figure.Figure at 0x7fdb084ac5c0>"
      ]
     },
     "metadata": {
      "tags": []
     },
     "output_type": "display_data"
    }
   ],
   "source": [
    "import numpy as np\n",
    "import matplotlib.pyplot as plt\n",
    "\n",
    "# Reshape image from (786,) to (28,28)\n",
    "img = np.reshape(features['image'], (28,28))\n",
    "number = np.argmax(labels['probs'])\n",
    "\n",
    "# Plot img with number as title\n",
    "plt.title(\"Number: %d\" % number)\n",
    "plt.imshow(img)\n",
    "plt.show()"
   ]
  },
  {
   "cell_type": "markdown",
   "metadata": {
    "colab_type": "text",
    "id": "_FkCrnqEgz3x"
   },
   "source": [
    "## Hyperparameters object\n",
    "\n",
    "We need a hyperparams object to store all hyperparamters we setup for our training. Let's create one where we can add all variables."
   ]
  },
  {
   "cell_type": "code",
   "execution_count": null,
   "metadata": {
    "colab": {
     "autoexec": {
      "startup": false,
      "wait_interval": 0.0
     }
    },
    "colab_type": "code",
    "id": "aTkJkkc3g90g"
   },
   "outputs": [],
   "source": [
    "from starttf.utils.dict2obj import Dict2Obj\n",
    "\n",
    "hyper_params = Dict2Obj({})"
   ]
  },
  {
   "cell_type": "markdown",
   "metadata": {
    "colab_type": "text",
    "id": "ImAClLTFfFc1"
   },
   "source": [
    "## Preparing a training\n",
    "\n",
    "Before writing a model, loss and everything fancy, you need to prepare your data for training.\n",
    "\n",
    "In the case of mnist no cleaning or augmentation is required, so we can simply write the data into a tfrecord file.\n",
    "\n",
    "However, to illustrate how data augmentation could work, we will set the data augmentation steps to 1 manually.\n",
    "This involves adding a problem parameter to our hyper parameters."
   ]
  },
  {
   "cell_type": "code",
   "execution_count": null,
   "metadata": {
    "colab": {
     "autoexec": {
      "startup": false,
      "wait_interval": 0.0
     }
    },
    "colab_type": "code",
    "id": "y5CfwwFgf_he"
   },
   "outputs": [],
   "source": [
    "from starttf.tfrecords.autorecords import write_data\n",
    "\n",
    "# Let's define our learning problem\n",
    "hyper_params.problem = Dict2Obj({\"augmentation\": {\"steps\": 1}})\n",
    "\n",
    "write_data(hyper_params, \"records/train\", train_gen, train_gen_params, 4)\n",
    "write_data(hyper_params, \"records/validation\", validation_gen, validation_gen_params, 2)"
   ]
  },
  {
   "cell_type": "markdown",
   "metadata": {
    "colab_type": "text",
    "id": "zbYrSStLwzpU"
   },
   "source": [
    "## Training a model (the easy way)\n",
    "\n",
    "Now that the data is written into a format that we can efficiently read for training, let's have a look at an easy way to train a model.\n",
    "\n",
    "First let's create a dict where to gather all hyperparameters for training. Usually you would put that in an extra .json file which can be loaded easily."
   ]
  },
  {
   "cell_type": "code",
   "execution_count": null,
   "metadata": {
    "colab": {
     "autoexec": {
      "startup": false,
      "wait_interval": 0.0
     }
    },
    "colab_type": "code",
    "id": "8cw2zI7uyXet"
   },
   "outputs": [],
   "source": [
    "hyper_params_dict = {}"
   ]
  },
  {
   "cell_type": "markdown",
   "metadata": {
    "colab_type": "text",
    "id": "JOmUzd22ybaZ"
   },
   "source": [
    "For simplicity we will use a predefined model (we will later see how to write a create model function by ourselves).\n",
    "\n",
    "This model has a hyperparameter for `dropout_rate`"
   ]
  },
  {
   "cell_type": "code",
   "execution_count": null,
   "metadata": {
    "colab": {
     "autoexec": {
      "startup": false,
      "wait_interval": 0.0
     }
    },
    "colab_type": "code",
    "id": "lXeNw6YAxNDw"
   },
   "outputs": [],
   "source": [
    "from starttf.models.mnist import create_model as mnist_model\n",
    "\n",
    "hyper_params_dict[\"arch\"] = {\"dropout_rate\": 0.5}"
   ]
  },
  {
   "cell_type": "markdown",
   "metadata": {
    "colab_type": "text",
    "id": "6wbIGqcsxXLd"
   },
   "source": [
    "Next we need to define a loss.\n",
    "\n",
    "The loss glues together our labels and the model.\n",
    "\n",
    "In the case of mnist it is a simple cross entropy loss."
   ]
  },
  {
   "cell_type": "code",
   "execution_count": null,
   "metadata": {
    "colab": {
     "autoexec": {
      "startup": false,
      "wait_interval": 0.0
     }
    },
    "colab_type": "code",
    "id": "h1hHVuwoxVkT"
   },
   "outputs": [],
   "source": [
    "from starttf.utils.misc import mode_to_str\n",
    "\n",
    "def create_loss(model, labels, mode, hyper_params):\n",
    "    mode_name = mode_to_str(mode)\n",
    "    metrics = {}\n",
    "\n",
    "    # Add loss\n",
    "    labels = tf.reshape(labels[\"probs\"], [-1, 10])\n",
    "    ce = tf.nn.softmax_cross_entropy_with_logits(logits=model[\"logits\"], labels=labels)\n",
    "    loss_op = tf.reduce_mean(ce)\n",
    "    # For tensorboard, we don't use that now.\n",
    "    #tf.summary.scalar(mode_name + '/loss', loss_op)\n",
    "    metrics[mode_name + '/loss'] = loss_op\n",
    "\n",
    "    return loss_op, metrics"
   ]
  },
  {
   "cell_type": "markdown",
   "metadata": {
    "colab_type": "text",
    "id": "UbGeBGXxxVYd"
   },
   "source": [
    "Now we need to define all our hyperparameters and launch the training."
   ]
  },
  {
   "cell_type": "code",
   "execution_count": 12,
   "metadata": {
    "colab": {
     "autoexec": {
      "startup": false,
      "wait_interval": 0.0
     },
     "base_uri": "https://localhost:8080/",
     "height": 427.0
    },
    "colab_type": "code",
    "executionInfo": {
     "elapsed": 24666.0,
     "status": "ok",
     "timestamp": 1.525715268107E12,
     "user": {
      "displayName": "Michael PenguinMenace",
      "photoUrl": "//lh3.googleusercontent.com/-wv0FkQOEnjg/AAAAAAAAAAI/AAAAAAAAAHM/byTo6iipigo/s50-c-k-no/photo.jpg",
      "userId": "112772895502545919169"
     },
     "user_tz": -120.0
    },
    "id": "dqggqmHNxv3D",
    "outputId": "50318f92-8f37-43f2-be0d-65b9ea28e348"
   },
   "outputs": [
    {
     "name": "stdout",
     "output_type": "stream",
     "text": [
      "Iter: 1750, Train loss: 0.0251, Test loss: 0.1978\n"
     ]
    },
    {
     "data": {
      "image/png": "[encoded data removed]",
      "text/plain": [
       "<matplotlib.figure.Figure at 0x7fdaf7411780>"
      ]
     },
     "metadata": {
      "tags": []
     },
     "output_type": "display_data"
    },
    {
     "name": "stdout",
     "output_type": "stream",
     "text": [
      "Timing: 98.195 ms per iteration\n"
     ]
    },
    {
     "data": {
      "text/plain": [
       "<matplotlib.figure.Figure at 0x7fdaf743c9b0>"
      ]
     },
     "metadata": {
      "tags": []
     },
     "output_type": "display_data"
    }
   ],
   "source": [
    "hyper_params_dict[\"train\"] = {}\n",
    "hyper_params_dict[\"train\"][\"checkpoint_path\"] = \"checkpoints\"\n",
    "hyper_params_dict[\"train\"][\"iters\"] = 2000\n",
    "hyper_params_dict[\"train\"][\"summary_iters\"] = 250\n",
    "hyper_params_dict[\"train\"][\"tf_records_path\"] = \"records\"\n",
    "hyper_params_dict[\"train\"][\"batch_size\"] = 64\n",
    "hyper_params_dict[\"train\"][\"validation_batch_size\"] = 64\n",
    "hyper_params_dict[\"train\"][\"learning_rate\"] = {\"type\": \"const\", \"start_value\": 0.001}\n",
    "hyper_params_dict[\"train\"][\"optimizer\"] = {\"type\": \"adam\"}\n",
    "\n",
    "\n",
    "hyper_params = Dict2Obj(hyper_params_dict)\n",
    "\n",
    "from starttf.estimators.scientific_estimator import easy_train_and_evaluate\n",
    "\n",
    "easy_train_and_evaluate(hyper_params, mnist_model, create_loss, inline_plotting=True)"
   ]
  },
  {
   "cell_type": "markdown",
   "metadata": {
    "colab_type": "text",
    "id": "l5vZRDeY5rb8"
   },
   "source": [
    "If you run this code on your native machine, you can visit the checkpoints path and find images there which contain plots of your metrics. In this case the loss."
   ]
  },
  {
   "cell_type": "markdown",
   "metadata": {
    "colab_type": "text",
    "id": "pjVt8y9mr87M"
   },
   "source": [
    "## Training a model (a more involved way)\n",
    "\n",
    "After having trained a model the easy way, let's do it the more involved way. In some cases the easy_train_and_evaluate might not fit your needs.\n",
    "\n",
    "For training basically 4 steps are required:\n",
    "\n",
    "1. Loading the data into a tensor\n",
    "2. Defining the model\n",
    "3. Defining the loss\n",
    "4. Train and Evaluate the model given the loss\n",
    "\n",
    "Then let's start with loading the data into a tensor."
   ]
  },
  {
   "cell_type": "code",
   "execution_count": null,
   "metadata": {
    "colab": {
     "autoexec": {
      "startup": false,
      "wait_interval": 0.0
     }
    },
    "colab_type": "code",
    "id": "Mn2UIIVwizC6"
   },
   "outputs": [],
   "source": [
    "from starttf.tfrecords.autorecords import read_data\n",
    "\n",
    "train_features, train_labels = read_data(\"records/train\", 64)\n",
    "validation_features, validation_labels = read_data(\"records/validation\", 64)"
   ]
  },
  {
   "cell_type": "markdown",
   "metadata": {
    "colab_type": "text",
    "id": "Y-D3lhx_tfah"
   },
   "source": [
    "Next we define a model using those tensors.\n",
    "Creating a model works by passing in an input_tensor, mode, and hyper params.\n",
    "\n",
    "The mode tells the network if it has to run in evaluation, prediction or training mode.\n",
    "When in eval mode, we want to resue the weights from the training network.\n",
    "Otherwise the network would train and evaluate using different weights.\n",
    "\n",
    "The Network we want to write is a little bit ispired by vgg just smaller. We have 2 conv layers, a pooling layer, 2 conv layers a pooling layer, dropout in training and finally some fully connected layer before a softmax layer."
   ]
  },
  {
   "cell_type": "code",
   "execution_count": null,
   "metadata": {
    "colab": {
     "autoexec": {
      "startup": false,
      "wait_interval": 0.0
     }
    },
    "colab_type": "code",
    "id": "accAmakd0_sf"
   },
   "outputs": [],
   "source": [
    "def create_model(input_tensor, mode, hyper_params):\n",
    "    model = {}\n",
    "    \n",
    "    with tf.variable_scope('SimpleMnistNetwork') as scope:\n",
    "        if mode == tf.estimator.ModeKeys.EVAL:\n",
    "            scope.reuse_variables()\n",
    "\n",
    "        # Prepare the inputs\n",
    "        x = tf.reshape(tensor=input_tensor[\"image\"], shape=(-1, 28, 28, 1), name=\"input\")\n",
    "\n",
    "        # First Conv Block\n",
    "        conv1 = tf.layers.conv2d(inputs=x, filters=16, kernel_size=(3, 3), strides=(1, 1), name=\"conv1\",\n",
    "                                 activation=tf.nn.relu)\n",
    "        conv2 = tf.layers.conv2d(inputs=conv1, filters=32, kernel_size=(3, 3), strides=(1, 1), name=\"conv2\",\n",
    "                                 activation=tf.nn.relu)\n",
    "        pool2 = tf.layers.max_pooling2d(inputs=conv2, pool_size=(2, 2), strides=(2, 2), name=\"pool2\")\n",
    "\n",
    "        # Second Conv Block\n",
    "        conv3 = tf.layers.conv2d(inputs=pool2, filters=32, kernel_size=(3, 3), strides=(1, 1), name=\"conv3\",\n",
    "                                 activation=tf.nn.relu)\n",
    "        conv4 = tf.layers.conv2d(inputs=conv3, filters=32, kernel_size=(3, 3), strides=(1, 1), name=\"conv4\",\n",
    "                                 activation=tf.nn.relu)\n",
    "        pool4 = tf.layers.max_pooling2d(inputs=conv4, pool_size=(2, 2), strides=(2, 2), name=\"pool4\")\n",
    "        if mode == tf.estimator.ModeKeys.TRAIN:\n",
    "            pool4 = tf.layers.dropout(inputs=pool4, rate=hyper_params.arch.dropout_rate, name=\"drop4\")\n",
    "\n",
    "        # Fully Connected Block\n",
    "        probs = tf.layers.flatten(inputs=pool4)\n",
    "        logits = tf.layers.dense(inputs=probs, units=10, activation=None, name=\"logits\")\n",
    "        probs = tf.nn.softmax(logits=logits, name=\"probs\")\n",
    "\n",
    "        # Collect outputs for api of network.\n",
    "        model[\"pool2\"] = pool2\n",
    "        model[\"pool4\"] = pool4\n",
    "        model[\"logits\"] = logits\n",
    "        model[\"probs\"] = probs\n",
    "    return model"
   ]
  },
  {
   "cell_type": "markdown",
   "metadata": {
    "colab_type": "text",
    "id": "pmBR5Vxs1AH9"
   },
   "source": [
    "Now we have to create our model twice, once for training and once for evaluation."
   ]
  },
  {
   "cell_type": "code",
   "execution_count": null,
   "metadata": {
    "colab": {
     "autoexec": {
      "startup": false,
      "wait_interval": 0.0
     }
    },
    "colab_type": "code",
    "id": "Hvy79ETqtpTm"
   },
   "outputs": [],
   "source": [
    "train_model = create_model(train_features, tf.estimator.ModeKeys.TRAIN, hyper_params)\n",
    "validation_model = create_model(validation_features, tf.estimator.ModeKeys.EVAL, hyper_params)"
   ]
  },
  {
   "cell_type": "markdown",
   "metadata": {
    "colab_type": "text",
    "id": "9gPKr0BnuPzK"
   },
   "source": [
    "As a loss we can use the same as for the easy training way.\n",
    "We need to create it once for training and once for validation."
   ]
  },
  {
   "cell_type": "code",
   "execution_count": null,
   "metadata": {
    "colab": {
     "autoexec": {
      "startup": false,
      "wait_interval": 0.0
     }
    },
    "colab_type": "code",
    "id": "soQXdz6suwlH"
   },
   "outputs": [],
   "source": [
    "train_loss, train_metrics = create_loss(train_model, train_labels, tf.estimator.ModeKeys.TRAIN, hyper_params)\n",
    "validation_loss, validation_metrics = create_loss(validation_model, validation_labels, tf.estimator.ModeKeys.EVAL, hyper_params)"
   ]
  },
  {
   "cell_type": "markdown",
   "metadata": {
    "colab_type": "text",
    "id": "maYcpu93vJ2p"
   },
   "source": [
    "Next we need to define a training operation to be able to train our model. In this case we will use a default adam optimizer, it should work ok."
   ]
  },
  {
   "cell_type": "code",
   "execution_count": null,
   "metadata": {
    "colab": {
     "autoexec": {
      "startup": false,
      "wait_interval": 0.0
     }
    },
    "colab_type": "code",
    "id": "QqBXoXHdvQ7F"
   },
   "outputs": [],
   "source": [
    "train_op = tf.train.AdamOptimizer().minimize(train_loss)"
   ]
  },
  {
   "cell_type": "markdown",
   "metadata": {
    "colab_type": "text",
    "id": "--puhsxOvjHG"
   },
   "source": [
    "The only thing left is actually training our model.\n",
    "Since we can reuse the hyperparameters from the simple training method. This ensures comparability."
   ]
  },
  {
   "cell_type": "code",
   "execution_count": 19,
   "metadata": {
    "colab": {
     "autoexec": {
      "startup": false,
      "wait_interval": 0.0
     },
     "base_uri": "https://localhost:8080/",
     "height": 427.0
    },
    "colab_type": "code",
    "executionInfo": {
     "elapsed": 24625.0,
     "status": "ok",
     "timestamp": 1.525715651206E12,
     "user": {
      "displayName": "Michael PenguinMenace",
      "photoUrl": "//lh3.googleusercontent.com/-wv0FkQOEnjg/AAAAAAAAAAI/AAAAAAAAAHM/byTo6iipigo/s50-c-k-no/photo.jpg",
      "userId": "112772895502545919169"
     },
     "user_tz": -120.0
    },
    "id": "w8k0XiRAvnXM",
    "outputId": "f8201af3-72b0-4d00-d9ad-bcfbcfe38490"
   },
   "outputs": [
    {
     "name": "stdout",
     "output_type": "stream",
     "text": [
      "Iter: 1750, Train loss: 0.0505, Test loss: 0.1147\n"
     ]
    },
    {
     "data": {
      "image/png": "[encoded data removed]",
      "text/plain": [
       "<matplotlib.figure.Figure at 0x7fdaf8603390>"
      ]
     },
     "metadata": {
      "tags": []
     },
     "output_type": "display_data"
    },
    {
     "name": "stdout",
     "output_type": "stream",
     "text": [
      "Timing: 97.014 ms per iteration\n"
     ]
    },
    {
     "data": {
      "text/plain": [
       "<matplotlib.figure.Figure at 0x7fdaff8d8eb8>"
      ]
     },
     "metadata": {
      "tags": []
     },
     "output_type": "display_data"
    }
   ],
   "source": [
    "from starttf.utils.plot_losses import DefaultLossCallback\n",
    "from starttf.utils.session_config import get_default_config\n",
    "from starttf.estimators.scientific_estimator import train_and_evaluate\n",
    "\n",
    "with tf.Session(config=get_default_config()) as session:\n",
    "        checkpoint_path = train_and_evaluate(hyper_params, session, train_op,\n",
    "                                             metrics=[train_metrics, validation_metrics],\n",
    "                                             callback=DefaultLossCallback(inline_plotting=True).callback,\n",
    "                                             enable_timing=True)"
   ]
  },
  {
   "cell_type": "markdown",
   "metadata": {
    "colab_type": "text",
    "id": "_x5yya7f2HXb"
   },
   "source": [
    "Congratulations!\n",
    "\n",
    "When you now want to work on a different dataset you have to do basically the same."
   ]
  },
  {
   "cell_type": "markdown",
   "metadata": {
    "colab_type": "text",
    "id": "WEvh33oA2Mxh"
   },
   "source": [
    "## How to do that on something else than mnist?\n",
    "\n",
    "1. Write a data generator, like the mnist generator we used. (See [mnist here](https://github.com/penguinmenac3/opendatalake/blob/master/opendatalake/classification/mnist.py) or a named folder based loader [here](https://github.com/penguinmenac3/opendatalake/blob/master/opendatalake/classification/named_folders.py))\n",
    "```python\n",
    "def threadable_gen(params, stride=1, offset=0, infinite=False):\n",
    "        # This function cannot be a lambda or pooling does not work.\n",
    "        # All interactions with the outside world must be via the params object. (agian for pooling to work)\n",
    "        # yield dicts for features and labels\n",
    "```\n",
    "2. Prepare your data as we have done here using the write_data method. You can optionally pass in a data augmentation, label_preprocessing and feature_preprocessing method if you want to.\n",
    "```python\n",
    "def write_data(hyper_params,\n",
    "               prefix,\n",
    "               threadable_generator,\n",
    "               params,\n",
    "               num_threads,\n",
    "               preprocess_feature=None,\n",
    "               preprocess_label=None,\n",
    "               augment_data=None):\n",
    "```\n",
    "3. Write a model or use a predefined one. There are implementations of common models in starttf.models. You can find vgg16 there for example. If you have an awesome model, consider a pull request at [starttf project on github](https://github.com/penguinmenac3/starttf/)\n",
    "```python\n",
    "def create_model(input_tensor, mode, hyper_params):\n",
    "        # Do not forget reuse variables and variable scope!\n",
    "```\n",
    "4. Write a loss like we did here to glue together your model and the labels.\n",
    "```python\n",
    "def create_loss(model, labels, mode, hyper_params):\n",
    "        # Return a loss op and metrics dict (like shown in this notebook)\n",
    "        # If you need some advanced losses, consider using starttf.losses. (alpha balancing, focus loss, mask loss, ...)\n",
    "```\n",
    "5. Use the easy_train_and_evaluate method or write your own training logic. Here we used a train_and_evaluate method, if you need some specific training that it cannot do you can use the source code [here](https://github.com/penguinmenac3/starttf/blob/master/starttf/estimators/scientific_estimator.py) and modify it to your requirements. If it is of general interest and has good code quality, consider pull requesting. ;)\n",
    "```python\n",
    "def easy_train_and_evaluate(hyper_params, create_model, create_loss, init_model=None):\n",
    "        # Init Model is a callback that you can use to initialize your model with pretrained weights just before training starts.\n",
    "```\n",
    "\n",
    "Stick to those patterns and writing a model for example 3d-detection of vehicles in realtime is done with just as many lines of code as writing an mnist network.\n",
    "Trust me on that one. I tried it myself. ;)"
   ]
  }
 ],
 "metadata": {
  "colab": {
   "collapsed_sections": [],
   "default_view": {},
   "name": "Starttf.ipynb",
   "provenance": [],
   "version": "0.3.2",
   "views": {}
  },
  "kernelspec": {
   "display_name": "cv-tf",
   "language": "python",
   "name": "cv-tf"
  },
  "language_info": {
   "codemirror_mode": {
    "name": "ipython",
    "version": 3
   },
   "file_extension": ".py",
   "mimetype": "text/x-python",
   "name": "python",
   "nbconvert_exporter": "python",
   "pygments_lexer": "ipython3",
   "version": "3.6.3"
  }
 },
 "nbformat": 4,
 "nbformat_minor": 2
}
